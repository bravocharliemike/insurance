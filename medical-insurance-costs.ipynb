{
 "cells": [
  {
   "cell_type": "markdown",
   "metadata": {},
   "source": [
    "# U.S. Medical Insurance Costs"
   ]
  },
  {
   "cell_type": "markdown",
   "metadata": {},
   "source": [
    "## Goals\n",
    "1. What is the average age of insured people?\n",
    "2. Group patients by age groups --> Need to figure out most sensible way to create age groups\n",
    "3. Is there a relationship between age and cost of insurance?\n",
    "4. Is insurance more expensive if you're a female?\n",
    "5. Where do most insured people live?\n",
    "6. Is insurance more expensive depending on your region?\n",
    "7. Look at the differences in cost between smokers vs non-smokers\n",
    "8. Average age of people with at least one child"
   ]
  },
  {
   "cell_type": "markdown",
   "metadata": {},
   "source": [
    "## Data"
   ]
  },
  {
   "cell_type": "code",
   "execution_count": 150,
   "metadata": {},
   "outputs": [],
   "source": [
    "import csv\n",
    "import statistics\n",
    "from pprint import pprint as pp"
   ]
  },
  {
   "cell_type": "markdown",
   "metadata": {},
   "source": [
    "The only libraries needed to do the analysis is `csv` and `statistics`. The `pprint` module is only used to format the dictionaries returned by several functions. The `pprint` library enhances the readability of large dictionaries as they are formatted as tables."
   ]
  },
  {
   "cell_type": "markdown",
   "metadata": {},
   "source": [
    "Initial analysis of the **insurance.csv** file reveals the following information about the dataset.\n",
    "There are 7 variables:\n",
    "* Patient age\n",
    "* Patient gender\n",
    "* Patient BMI\n",
    "* Patient Number of Children\n",
    "* Patient Smoker Status\n",
    "* Patient US Region\n",
    "* Patient Yearly Medical Insurance Costs"
   ]
  },
  {
   "cell_type": "markdown",
   "metadata": {},
   "source": [
    "The first step is to load the **insurance.csv** data into 7 separate `lists` that will hold the data for the respective variable."
   ]
  },
  {
   "cell_type": "code",
   "execution_count": 229,
   "metadata": {},
   "outputs": [],
   "source": [
    "# Read in the csv file and store the contents into separate\n",
    "# lists for each column\n",
    "# Example: BMI column -> bmi [ ... ]\n",
    "\n",
    "# Initialise all the lists\n",
    "ages, sexes, bmis, children, smokers, regions, charges = [], [], [], [], [], [], []\n",
    "\n",
    "with open('insurance.csv') as insurance_file:\n",
    "    insurance_csv = csv.DictReader(insurance_file)\n",
    "    \n",
    "    for row in insurance_csv:\n",
    "        ages.append(row['age'])\n",
    "        sexes.append(row['sex'])\n",
    "        bmis.append(row['bmi'])\n",
    "        children.append(row['children'])\n",
    "        smokers.append(row['smoker'])\n",
    "        regions.append(row['region'])\n",
    "        charges.append(row['charges'])"
   ]
  },
  {
   "cell_type": "code",
   "execution_count": 151,
   "metadata": {},
   "outputs": [],
   "source": [
    "def convert_elements_to_numerical(lst):\n",
    "    \"\"\"Converts the elements in a list to a numerical data type. \n",
    "    The function can discern if an element should be converted \n",
    "    to a floating point number (float) or an integer (int).\n",
    "    Example:\n",
    "    >>> convert_elements_to_numerical(['1', '2', '3'])\n",
    "    [1, 2, 3]\n",
    "    \n",
    "    >>> convert_elements_to_numerical(['22.3', '19.21', '31.4'])\n",
    "    [22.3, 19.21, 31.4]\n",
    "    \"\"\"\n",
    "    result = []\n",
    "    for item in lst:\n",
    "        if item.find('.') != -1:  # This means the item is a float\n",
    "            result.append(float(item))\n",
    "        else:  # The item is an int\n",
    "            result.append(int(item))\n",
    "    return result"
   ]
  },
  {
   "cell_type": "code",
   "execution_count": 152,
   "metadata": {},
   "outputs": [],
   "source": [
    "def build_patient_dictionary(age_lst, sex_lst, \n",
    "                             bmi_lst, children_lst, \n",
    "                             smoker_lst, region_lst, charges_lst):\n",
    "    \"\"\"Creates a new dictionary with the patient data\n",
    "    It will have sequential numbers for each patient, start from 0 on to the total patients\n",
    "    Each key of the dict will be a unique counter which correlates to patient number\n",
    "    and the values will be the rest of the data with corresponding keys\n",
    "    \"\"\"\n",
    "    result = {}\n",
    "    # Initialise a counter of type int with initial value of 1\n",
    "    patient_number = 1\n",
    "    for age, sex, bmi, children_count, smoker_status, region, charges in zip(age_lst, sex_lst, bmi_lst, children_lst, smoker_lst, region_lst, charges_lst):\n",
    "        result[patient_number] = {\n",
    "                                'Age': age,\n",
    "                                'Sex': sex,\n",
    "                                'BMI': bmi,\n",
    "                                'Children': children_count,\n",
    "                                'Smoker': smoker_status,\n",
    "                                'Region': region,\n",
    "                                'Charges': charges\n",
    "                                }\n",
    "        # Increase the counter so the next patient gets the following number up\n",
    "        patient_number += 1\n",
    "\n",
    "    # Return the dictionary\n",
    "    return result"
   ]
  },
  {
   "cell_type": "code",
   "execution_count": 153,
   "metadata": {},
   "outputs": [],
   "source": [
    "def group_patients_by_age(px_dict):\n",
    "    \"\"\"Creates a new dictionary that groups patients by ages. The keys\n",
    "    of this new dictionary are ages and the values are dictionaries of each\n",
    "    patient that corresponds to that age\n",
    "    \"\"\"\n",
    "    result = {}\n",
    "    for patient in px_dict.values():\n",
    "        #Capture the current age_value from the 'Age' value\n",
    "        current_age_value = patient['Age']\n",
    "        #Capture the current patient_dictionary\n",
    "        current_patient = patient\n",
    "        #If the current age_value is not in the new dictionary:\n",
    "        if current_age_value not in result:\n",
    "            #Initialise that age_value as key and append the value of current_patient_dict to the list\n",
    "            result[current_age_value] = [current_patient]\n",
    "        #Otherwise the age_value has been seen before:\n",
    "        else:\n",
    "            #Append the current_patient_dict to the list\n",
    "            result[current_age_value].append(patient)\n",
    "    return result"
   ]
  },
  {
   "cell_type": "code",
   "execution_count": 154,
   "metadata": {},
   "outputs": [],
   "source": [
    "def count_patient_numbers_per_region(px_dict):\n",
    "    regions_dict = {}\n",
    "    \n",
    "    for patient in px_dict.values():\n",
    "        current_region = patient['Region']\n",
    "        if current_region not in regions_dict:  # Check if this region has not been seen yet\n",
    "            regions_dict[current_region] = 1\n",
    "        else:                                   # This region has been seen before\n",
    "            regions_dict[current_region] += 1\n",
    "            \n",
    "    return regions_dict"
   ]
  },
  {
   "cell_type": "code",
   "execution_count": 155,
   "metadata": {},
   "outputs": [],
   "source": [
    "def count_patients_by_gender(px_dict):\n",
    "    gender_count_dict = {}\n",
    "    \n",
    "    for patient in px_dict.values():\n",
    "        current_gender = patient['Sex']\n",
    "        \n",
    "        if current_gender not in gender_count_dict:\n",
    "            gender_count_dict[current_gender] = 1\n",
    "        else:\n",
    "            gender_count_dict[current_gender] += 1\n",
    "    return gender_count_dict"
   ]
  },
  {
   "cell_type": "code",
   "execution_count": 156,
   "metadata": {},
   "outputs": [],
   "source": [
    "def find_age_most_insured(age_dict):\n",
    "    age_most_insured = 0   # These two values will be used to find the King of the Hill\n",
    "    max_number_patients = 0\n",
    "\n",
    "    for age, patients in age_dict.items():\n",
    "        current_age = age\n",
    "        total_patients = len(patients)\n",
    "\n",
    "        if total_patients > max_number_patients:\n",
    "            max_number_patients = total_patients\n",
    "            age_most_insured = current_age\n",
    "\n",
    "    return (age_most_insured, max_number_patients)"
   ]
  },
  {
   "cell_type": "code",
   "execution_count": 157,
   "metadata": {},
   "outputs": [],
   "source": [
    "def find_most_expensive_insurance(px_dict):\n",
    "    most_expensive = 0\n",
    "    for patient in patients_dictionary.values():\n",
    "        current_cost = patient['Charges']\n",
    "        patient_id = patient    # Record the patient number of the most expensive insurance\n",
    "        \n",
    "        if current_cost > most_expensive:\n",
    "            most_expensive = current_cost\n",
    "            patient_who_pays_most = patient_id\n",
    "            \n",
    "    return (patient_who_pays_most, most_expensive)"
   ]
  },
  {
   "cell_type": "code",
   "execution_count": 181,
   "metadata": {},
   "outputs": [],
   "source": [
    "def find_average_cost_per_region(px_dict):\n",
    "    result = {}\n",
    "    sw_total, se_total, nw_total, ne_total = 0, 0, 0, 0\n",
    "    sw_count, se_count, nw_count, ne_count = 0, 0, 0, 0\n",
    "    \n",
    "    for id, info in patients_dictionary.items():\n",
    "        current_charges = info['Charges']\n",
    "        if info['Region'] == 'southwest':\n",
    "            sw_total += current_charges\n",
    "            sw_count += 1\n",
    "        \n",
    "        elif info['Region'] == 'southeast':\n",
    "            se_total += current_charges\n",
    "            se_count += 1\n",
    "            \n",
    "        elif info['Region'] == 'northwest':\n",
    "            nw_total += current_charges\n",
    "            nw_count += 1\n",
    "        \n",
    "        else:\n",
    "            ne_total += current_charges\n",
    "            ne_count += 1\n",
    "    \n",
    "    result.update({'southwest': sw_total / sw_count,\n",
    "                    'southeast': se_total / se_count,\n",
    "                    'northwest': nw_total / nw_count,\n",
    "                    'northeast': ne_total / ne_count})\n",
    "    \n",
    "    return result"
   ]
  },
  {
   "cell_type": "code",
   "execution_count": 199,
   "metadata": {},
   "outputs": [],
   "source": [
    "def find_average_cost_per_region_using_lists(px_dict):\n",
    "    from statistics import median, mean\n",
    "    \n",
    "    southwest, southeast, northwest, northeast = [], [], [], []\n",
    "    result = {}   # To store the final statistical mean and average\n",
    "    \n",
    "    for id, info in patients_dictionary.items():\n",
    "        current_charges = info['Charges']\n",
    "        if info['Region'] == 'southwest':\n",
    "            southwest.append(current_charges)\n",
    "        \n",
    "        elif info['Region'] == 'southeast':\n",
    "            southeast.append(current_charges)\n",
    "            \n",
    "        elif info['Region'] == 'northwest':\n",
    "            northwest.append(current_charges)\n",
    "        \n",
    "        else:\n",
    "            northeast.append(current_charges)\n",
    "    \n",
    "    result.update({ 'Southwest': {'Mean': mean(southwest), 'Median': median(southwest)},\n",
    "                    'Southeast': {'Mean': mean(southeast), 'Median': median(southeast)},\n",
    "                    'Northwest': {'Mean': mean(northwest), 'Median': median(northwest)},\n",
    "                    'Northeast': {'Mean': mean(northeast), 'Median': median(northeast)} })\n",
    "    \n",
    "    return result"
   ]
  },
  {
   "cell_type": "markdown",
   "metadata": {},
   "source": [
    "The function `convert_elements_to_numerical()` was implemented to convert all the data types of each individual list. This will facilitate numerical analysis of each variable.\n",
    "Only four lists need to be updated, all with numerical data.\n",
    "`updated_ages`\n",
    "`updated_bmis`\n",
    "`updated_children`\n",
    "`updated_charges`\n"
   ]
  },
  {
   "cell_type": "code",
   "execution_count": 225,
   "metadata": {},
   "outputs": [],
   "source": [
    "# Change lists that should be numerical to an appropriate data type\n",
    "# For example, ages should all be integers but are strings at the moment\n",
    "updated_ages = convert_elements_to_numerical(ages)\n",
    "updated_bmis = convert_elements_to_numerical(bmis)\n",
    "updated_children = convert_elements_to_numerical(children)\n",
    "updated_charges = convert_elements_to_numerical(charges)"
   ]
  },
  {
   "cell_type": "code",
   "execution_count": 160,
   "metadata": {},
   "outputs": [],
   "source": [
    "# Build a dictionary that has a patient number as keys and the different variables\n",
    "# built into another dictionary. The patient number starts at 1 and goes to the last patient\n",
    "# in the dataset, i.e. 1338 patients\n",
    "patients_dictionary = build_patient_dictionary(updated_ages, sexes, updated_bmis, updated_children, smokers, regions, updated_charges)\n",
    "\n",
    "# Print patients dictionary to make sure data was stored properly\n",
    "# pp(patients_dictionary)"
   ]
  },
  {
   "cell_type": "code",
   "execution_count": 161,
   "metadata": {},
   "outputs": [],
   "source": [
    "# Build a dictionary that groups all patients by age\n",
    "# The resulting dictionary will have an age (as an int) as the keys\n",
    "# and the values are lists of dicionaries of patients that have that same age\n",
    "patients_by_age = group_patients_by_age(patients_dictionary)\n",
    "\n",
    "# Print out the new dictionary of patients by age\n",
    "#pp(patients_by_age)"
   ]
  },
  {
   "cell_type": "code",
   "execution_count": 246,
   "metadata": {},
   "outputs": [
    {
     "name": "stdout",
     "output_type": "stream",
     "text": [
      "The patients aged 18 years old are the most insured with 69 patients total.\n"
     ]
    }
   ],
   "source": [
    "# Find the age most insured\n",
    "most_insured_age = find_age_most_insured(patients_by_age)\n",
    "total_count = most_insured_age[1]\n",
    "print(f'The patients aged {most_insured_age[0]} years old are the most insured with {total_count} patients total.') "
   ]
  },
  {
   "cell_type": "code",
   "execution_count": 165,
   "metadata": {},
   "outputs": [
    {
     "name": "stdout",
     "output_type": "stream",
     "text": [
      "The most expensive insurance costs $63,770.43 dollars.\n",
      "\n",
      "The patient who pays most is:\n",
      "54 years old female.\n",
      "Whose BMI is 47.41.\n",
      "Has 0 children.\n",
      "Her smoker status is yes.\n",
      "And is registered in the Southeast region.\n"
     ]
    }
   ],
   "source": [
    "# Figure out who pays the most expensive insurance policy\n",
    "# See also the additional details for that patient\n",
    "dearest_insurance = find_most_expensive_insurance(patients_dictionary)\n",
    "patient_who_pays_most = dearest_insurance[0]\n",
    "\n",
    "print(f'The most expensive insurance costs ${dearest_insurance[1]:,.2f} dollars.\\n')\n",
    "print(f'The patient who pays most is:')\n",
    "print(f\"{patient_who_pays_most['Age']} years old {patient_who_pays_most['Sex']}.\")\n",
    "print(f\"Whose BMI is {patient_who_pays_most['BMI']}.\")\n",
    "print(f\"Has {patient_who_pays_most['Children']} children.\")\n",
    "print(f\"Her smoker status is {patient_who_pays_most['Smoker']}.\")\n",
    "print(f\"And is registered in the {patient_who_pays_most['Region'].title()} region.\")"
   ]
  },
  {
   "cell_type": "markdown",
   "metadata": {},
   "source": [
    "## Analysis"
   ]
  },
  {
   "cell_type": "markdown",
   "metadata": {},
   "source": [
    "The data has been organised, and the analysis can begin. This part of the analysis will try to answer the following questions:\n",
    "\n",
    "1. Find average age of the patients.\n",
    "2. Break down the number of males vs. females in the dataset.\n",
    "3. Find geographical location of the patients.\n",
    "4. Count the number of patients in relation to their geographical location.\n",
    "5. Calculate the average yearly medical charges as a function of geographical location. Is there a region where insurance is more expensive?\n",
    "6. Create a searchable dictionary of all patient information"
   ]
  },
  {
   "cell_type": "code",
   "execution_count": 279,
   "metadata": {},
   "outputs": [
    {
     "name": "stdout",
     "output_type": "stream",
     "text": [
      "Average age: 39.21 years old.\n"
     ]
    }
   ],
   "source": [
    "# Find the average age in the dataset using the updated list of ages\n",
    "average_age = statistics.mean(updated_ages)\n",
    "print(f'Average age: {average_age:,.2f} years old.')"
   ]
  },
  {
   "cell_type": "markdown",
   "metadata": {},
   "source": [
    "The average (mean) age of the patients in the **insurance.csv** dataset is `39 years old`. The range and standard deviation of the patient age group in this dataset has not been performed."
   ]
  },
  {
   "cell_type": "code",
   "execution_count": 244,
   "metadata": {},
   "outputs": [
    {
     "name": "stdout",
     "output_type": "stream",
     "text": [
      "The number of female patients in the dataset is: 662\n",
      "The number of male patients in the dataset is: 676\n"
     ]
    }
   ],
   "source": [
    "# Build a dictionary to break down total count of patients insured\n",
    "# by gender. Two keys exist: 1) female 2) males with their corresponding patient count\n",
    "patients_by_gender = count_patients_by_gender(patients_dictionary)\n",
    "print(f'The number of female patients in the dataset is: {patients_by_gender[\"female\"]}')\n",
    "print(f'The number of male patients in the dataset is: {patients_by_gender[\"male\"]}')"
   ]
  },
  {
   "cell_type": "markdown",
   "metadata": {},
   "source": [
    "A helper function `count_patients_by_gender()` calculates the total number of patients by gender. The result is that there are **662 females** and **676 males** and it can be said that the dataset is somewhat representative of a broader population of individuals. In other words, the dataset seems to be balanced."
   ]
  },
  {
   "cell_type": "code",
   "execution_count": 257,
   "metadata": {},
   "outputs": [
    {
     "name": "stdout",
     "output_type": "stream",
     "text": [
      "The Southwest has 325 patients.\n",
      "The Southeast has 364 patients.\n",
      "The Northwest has 325 patients.\n",
      "The Northeast has 324 patients.\n"
     ]
    }
   ],
   "source": [
    "# Build a dictionary where all patients are grouped by region\n",
    "# The resulting dictionary will have a region (out of 4 possible regions) as keys\n",
    "# and the count as values\n",
    "regions_dictionary_count = count_patient_numbers_per_region(patients_dictionary)\n",
    "\n",
    "for region, count in regions_dictionary_count.items():\n",
    "    print(f'The {region.title()} has {count} patients.')"
   ]
  },
  {
   "cell_type": "markdown",
   "metadata": {},
   "source": [
    "Another helper function `count_patient_numbers_per_region()` was used to calculate the total number of patients in each region of the United States.\n",
    "\n",
    "The dataset contains four unique geograhical regions in the United States. It is important to note that only one region, the **Southeast** has more patients than the other three. This analysis confirm the total number of patients in the dataset to be **1338 patients**. "
   ]
  },
  {
   "cell_type": "code",
   "execution_count": 277,
   "metadata": {},
   "outputs": [
    {
     "name": "stdout",
     "output_type": "stream",
     "text": [
      "Southwest: $12,346.94\n",
      "Southeast: $14,735.41\n",
      "Northwest: $12,417.58\n",
      "Northeast: $13,406.38\n",
      "Average Yearly Insurance Charges for all Regions: 13,226.58 dollars.\n"
     ]
    }
   ],
   "source": [
    "# Analyse the regional costs to obtain statistical measures of central tendency\n",
    "average_regional_costs_second = find_average_cost_per_region_using_lists(patients_dictionary)\n",
    "\n",
    "total_all_regions = 0   # Used to calculate the total mean of all regions\n",
    "for region, stats in average_regional_costs_second.items():\n",
    "    print(f'{region}: ${stats[\"Mean\"]:,.2f}')\n",
    "\n",
    "    total_all_regions += stats[\"Mean\"]\n",
    "\n",
    "# Calculate the total average for all regions\n",
    "total_average_all_regions = total_all_regions / len(average_regional_costs_second)\n",
    "\n",
    "                                                     \n",
    "print(f'Average Yearly Insurance Charges for all Regions: {total_average_all_regions:,.2f} dollars.')"
   ]
  },
  {
   "cell_type": "markdown",
   "metadata": {},
   "source": [
    "The function `analyse_regional_costs_second()` helps to calculate the statistical mean for all the four regions. In addition, the average yearly medical insurance charge for all regions per individual is **13,226 US dollars**. Additional analysis is needed to determine which patient variables contribute most strongly to low or high medical insurance charges. For example, is age a factor that correlates with insurance costs per year?"
   ]
  }
 ],
 "metadata": {
  "kernelspec": {
   "display_name": "Python 3",
   "language": "python",
   "name": "python3"
  },
  "language_info": {
   "codemirror_mode": {
    "name": "ipython",
    "version": 3
   },
   "file_extension": ".py",
   "mimetype": "text/x-python",
   "name": "python",
   "nbconvert_exporter": "python",
   "pygments_lexer": "ipython3",
   "version": "3.8.2"
  }
 },
 "nbformat": 4,
 "nbformat_minor": 4
}
