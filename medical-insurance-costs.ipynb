{
 "cells": [
  {
   "cell_type": "markdown",
   "metadata": {},
   "source": [
    "# U.S. Medical Insurance Costs"
   ]
  },
  {
   "cell_type": "markdown",
   "metadata": {},
   "source": [
    "## Goals\n",
    "Observations:\n",
    "1. Things to note: There are categorical and numerical data\n",
    "2. No data is missing\n",
    "3. There are 7 columns, variables\n",
    "\n",
    "Possible goals / questions:\n",
    "1. What is the average age of insured people?\n",
    "2. Group patients by age groups --> Need to figure out most sensible way to create age groups\n",
    "3. Is there a relationship between age and cost of insurance?\n",
    "4. Is insurance more expensive if you're a female?\n",
    "5. Where do most insured people live?\n",
    "6. Is insurance more expensive depending on your region?\n",
    "7. Look at the differences in cost between smokers vs non-smokers\n",
    "8. Average age of people with at least one child"
   ]
  },
  {
   "cell_type": "markdown",
   "metadata": {},
   "source": [
    "## Data"
   ]
  },
  {
   "cell_type": "code",
   "execution_count": 2,
   "metadata": {},
   "outputs": [],
   "source": [
    "import csv\n",
    "import statistics\n",
    "from pprint import pprint as pp"
   ]
  },
  {
   "cell_type": "code",
   "execution_count": 41,
   "metadata": {},
   "outputs": [],
   "source": [
    "def convert_elements_to_numerical(lst):\n",
    "    \"\"\"Converts the elements in a list to a numerical data type. \n",
    "    The function can discern if an element should be converted \n",
    "    to a floating point number (float) or an integer (int).\n",
    "    Example:\n",
    "    >>> convert_elements_to_numerical(['1', '2', '3'])\n",
    "    [1, 2, 3]\n",
    "    \n",
    "    >>> convert_elements_to_numerical(['22.3', '19.21', '31.4'])\n",
    "    [22.3, 19.21, 31.4]\n",
    "    \"\"\"\n",
    "    result = []\n",
    "    for item in lst:\n",
    "        if item.find('.') != -1:  # This means the item is a float\n",
    "            result.append(float(item))\n",
    "        else:  # The item is an int\n",
    "            result.append(int(item))\n",
    "    return result\n",
    "\n",
    "\n",
    "def build_patient_dictionary(age_lst, sex_lst, \n",
    "                             bmi_lst, children_lst, \n",
    "                             smoker_lst, region_lst, charges_lst):\n",
    "    \"\"\"Creates a new dictionary with the patient data\n",
    "    It will have sequential numbers for each patient, start from 0 on to the total patients\n",
    "    Each key of the dict will be a unique counter which correlates to patient number\n",
    "    and the values will be the rest of the data with corresponding keys\n",
    "    \"\"\"\n",
    "    result = {}\n",
    "    # Initialise a counter of type int with initial value of 1\n",
    "    patient_number = 1\n",
    "    for age, sex, bmi, children_count, smoker_status, region, charges in zip(age_lst, sex_lst, bmi_lst, children_lst, smoker_lst, region_lst, charges_lst):\n",
    "        result[patient_number] = {\n",
    "                                'Age': age,\n",
    "                                'Sex': sex,\n",
    "                                'BMI': bmi,\n",
    "                                'Children': children_count,\n",
    "                                'Smoker': smoker_status,\n",
    "                                'Region': region,\n",
    "                                'Charges': charges\n",
    "                                }\n",
    "        # Increase the counter so the next patient gets the following number up\n",
    "        patient_number += 1\n",
    "\n",
    "    # Return the dictionary\n",
    "    return result\n",
    "\n",
    "def group_patients_by_age(patient_d):\n",
    "    \"\"\"Creates a new dictionary that groups patients by ages. The keys\n",
    "    of this new dictionary are ages and the values are dictionaries of each\n",
    "    patient that corresponds to that age\n",
    "    \"\"\"\n",
    "    result = {}\n",
    "    for patient in patient_d.values():\n",
    "        #Capture the current age_value from the 'Age' value\n",
    "        current_age_value = patient['Age']\n",
    "        #Capture the current patient_dictionary\n",
    "        current_patient_dict = patient\n",
    "        #If the current age_value is not in the new dictionary:\n",
    "        if current_age_value not in result:\n",
    "            #Initialise that age_value as key and append the value of current_patient_dict to the list\n",
    "            result[current_age_value] = [current_patient_dict]\n",
    "        #Otherwise the age_value has been seen before:\n",
    "        else:\n",
    "            #Append the current_patient_dict to the list\n",
    "            result[current_age_value].append(patient)\n",
    "    return result\n",
    "\n",
    "\n",
    "\n",
    "def count_patient_numbers_per_region():\n",
    "    pass\n",
    "\n",
    "def find_most_popular_region():\n",
    "    pass\n",
    "\n",
    "def count_patients_by_gender():\n",
    "    pass\n",
    "\n",
    "def find_age_most_insured():\n",
    "    pass\n",
    "\n",
    "def find_most_expensive_insurance():\n",
    "    pass\n",
    "\n",
    "def group_patients_by_age():\n",
    "    pass\n",
    "\n",
    "def rate_patients_by_children_count():\n",
    "    pass"
   ]
  },
  {
   "cell_type": "code",
   "execution_count": 26,
   "metadata": {},
   "outputs": [],
   "source": [
    "# Read in the csv file and store the contents into separate\n",
    "# lists for each column\n",
    "# Example: BMI column -> bmi [ ... ]\n",
    "\n",
    "# Initialise all the lists\n",
    "ages, sexes, bmis, children, smokers, regions, charges = [], [], [], [], [], [], []\n",
    "\n",
    "with open('insurance.csv') as insurance_file:\n",
    "    insurance_csv = csv.DictReader(insurance_file)\n",
    "    \n",
    "    for item in insurance_csv:\n",
    "        ages.append(item['age'])\n",
    "        sexes.append(item['sex'])\n",
    "        bmis.append(item['bmi'])\n",
    "        children.append(item['children'])\n",
    "        smokers.append(item['smoker'])\n",
    "        regions.append(item['region'])\n",
    "        charges.append(item['charges'])"
   ]
  },
  {
   "cell_type": "code",
   "execution_count": 27,
   "metadata": {},
   "outputs": [],
   "source": [
    "# Change lists that should be numerical to an appropriate data type\n",
    "# For example, ages should all be integers but are strings at the moment\n",
    "updated_ages = convert_elements_to_numerical(ages)\n",
    "updated_bmis = convert_elements_to_numerical(bmis)\n",
    "updated_children = convert_elements_to_numerical(children)\n",
    "updated_charges = convert_elements_to_numerical(charges)\n"
   ]
  },
  {
   "cell_type": "code",
   "execution_count": 38,
   "metadata": {},
   "outputs": [],
   "source": [
    "# Build a dictionary that has a patient number as keys and the different variables\n",
    "# built into another dictionary. The patient number starts at 1 and goes to the last patient\n",
    "# in the dataset, i.e. 1338 patients\n",
    "patients_dictionary = build_patient_dictionary(updated_ages, sexes, updated_bmis, updated_children, smokers, regions, updated_charges)\n",
    "\n",
    "# Print patients dictionary to make sure data was stored properly\n",
    "#pp(patients_dictionary)"
   ]
  },
  {
   "cell_type": "code",
   "execution_count": null,
   "metadata": {},
   "outputs": [],
   "source": [
    "# Build a dictionary that groups all patients by age\n",
    "# The resulting dictionary will have an age (as an int) as the keys\n",
    "# and the values are lists of dicionaries of patients that have that same age\n",
    "patients_by_age = group_patients_by_age(patients_dictionary)\n",
    "\n",
    "# Print out the new dictionary of patients by age\n",
    "#pp(patients_by_age)\n",
    "\n",
    "\"\"\"Sample output\n",
    "\n",
    ">>> patients_by_age[18]\n",
    "{18: [{'Age': 18,\n",
    "       'BMI': 33.77,\n",
    "       'Charges': 1725.5523,\n",
    "       'Children': 1,\n",
    "       'Region': 'southeast',\n",
    "       'Sex': 'male',\n",
    "       'Smoker': 'no'},\n",
    "      {'Age': 18,\n",
    "       'BMI': 34.1,\n",
    "       'Charges': 1137.011,\n",
    "       'Children': 0,\n",
    "       'Region': 'southeast',\n",
    "       'Sex': 'male',\n",
    "       'Smoker': 'no'} }\n",
    "\"\"\""
   ]
  },
  {
   "cell_type": "markdown",
   "metadata": {},
   "source": [
    "## Analysis"
   ]
  },
  {
   "cell_type": "code",
   "execution_count": 36,
   "metadata": {},
   "outputs": [
    {
     "name": "stdout",
     "output_type": "stream",
     "text": [
      "39.20702541106129\n",
      "39.0\n"
     ]
    }
   ],
   "source": [
    "average_age = statistics.mean(updated_ages)\n",
    "median_age = statistics.median(updated_ages)\n",
    "print(average_age)\n",
    "print(median_age)"
   ]
  }
 ],
 "metadata": {
  "kernelspec": {
   "display_name": "Python 3",
   "language": "python",
   "name": "python3"
  },
  "language_info": {
   "codemirror_mode": {
    "name": "ipython",
    "version": 3
   },
   "file_extension": ".py",
   "mimetype": "text/x-python",
   "name": "python",
   "nbconvert_exporter": "python",
   "pygments_lexer": "ipython3",
   "version": "3.8.2"
  }
 },
 "nbformat": 4,
 "nbformat_minor": 4
}
