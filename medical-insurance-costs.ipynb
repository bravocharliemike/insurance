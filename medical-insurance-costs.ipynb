{
 "cells": [
  {
   "cell_type": "markdown",
   "metadata": {},
   "source": [
    "# U.S. Medical Insurance Costs"
   ]
  },
  {
   "cell_type": "markdown",
   "metadata": {},
   "source": [
    "# Goals\n",
    "Observations:\n",
    "1. Things to note: There are categorical and numerical data\n",
    "2. No data is missing\n",
    "3. There are 7 columns, variables\n",
    "\n",
    "Possible goals / questions:\n",
    "1. What is the average age of insured people?\n",
    "2. Is there a relationship between age and cost of insurance?\n",
    "3. Is insurance more expensive if you're a female?\n",
    "4. Where do most insured people live?\n",
    "5. Is insurance more expensive depending on your region?\n",
    "6. Look at the differences in cost between smokers vs non-smokers\n",
    "7. Average age of people with at least one child\n"
   ]
  },
  {
   "cell_type": "markdown",
   "metadata": {},
   "source": [
    "# Data"
   ]
  },
  {
   "cell_type": "code",
   "execution_count": 20,
   "metadata": {},
   "outputs": [],
   "source": [
    "import csv\n",
    "from pprint import pprint"
   ]
  },
  {
   "cell_type": "code",
   "execution_count": 26,
   "metadata": {},
   "outputs": [],
   "source": [
    "# Read in the csv file and store the contents into separate\n",
    "# lists for each column\n",
    "# Example: BMI column -> bmi [ ... ]\n",
    "\n",
    "# Initialise all the lists\n",
    "ages, sexes, bmis, children, smokers, regions, charges = [], [], [], [], [], [], []\n",
    "\n",
    "with open('insurance.csv') as insurance_file:\n",
    "    insurance_csv = csv.DictReader(insurance_file)\n",
    "    \n",
    "    for item in insurance_csv:\n",
    "        ages.append(item['age'])\n",
    "        sexes.append(item['sex'])\n",
    "        bmis.append(item['bmi'])\n",
    "        children.append(item['children'])\n",
    "        smokers.append(item['smoker'])\n",
    "        regions.append(item['region'])\n",
    "        charges.append(item['charges'])"
   ]
  },
  {
   "cell_type": "code",
   "execution_count": 28,
   "metadata": {},
   "outputs": [
    {
     "name": "stdout",
     "output_type": "stream",
     "text": [
      "['19', '18', '28', '33', '32']\n",
      "['female', 'male', 'male', 'male', 'male']\n",
      "['27.9', '33.77', '33', '22.705', '28.88']\n",
      "['0', '1', '3', '0', '0']\n",
      "['yes', 'no', 'no', 'no', 'no']\n",
      "['southwest', 'southeast', 'southeast', 'northwest', 'northwest']\n",
      "['16884.924', '1725.5523', '4449.462', '21984.47061', '3866.8552']\n"
     ]
    }
   ],
   "source": [
    "print(ages[:5])\n",
    "print(sexes[:5])\n",
    "print(bmis[:5])\n",
    "print(children[:5])\n",
    "print(smokers[:5])\n",
    "print(regions[:5])\n",
    "print(charges[:5])"
   ]
  },
  {
   "cell_type": "code",
   "execution_count": 31,
   "metadata": {},
   "outputs": [],
   "source": [
    "# TODO Create function to convert number strings into ints or floats\n"
   ]
  },
  {
   "cell_type": "markdown",
   "metadata": {},
   "source": [
    "# Analysis"
   ]
  },
  {
   "cell_type": "code",
   "execution_count": null,
   "metadata": {},
   "outputs": [],
   "source": []
  }
 ],
 "metadata": {
  "kernelspec": {
   "display_name": "Python 3",
   "language": "python",
   "name": "python3"
  },
  "language_info": {
   "codemirror_mode": {
    "name": "ipython",
    "version": 3
   },
   "file_extension": ".py",
   "mimetype": "text/x-python",
   "name": "python",
   "nbconvert_exporter": "python",
   "pygments_lexer": "ipython3",
   "version": "3.8.2"
  }
 },
 "nbformat": 4,
 "nbformat_minor": 4
}
